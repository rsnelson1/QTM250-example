{
  "nbformat": 4,
  "nbformat_minor": 0,
  "metadata": {
    "colab": {
      "name": "Question3.ipynb",
      "provenance": [],
      "authorship_tag": "ABX9TyO1F3ArCZhqi7DvY+HQ8rIa",
      "include_colab_link": true
    },
    "kernelspec": {
      "name": "python3",
      "display_name": "Python 3"
    },
    "language_info": {
      "name": "python"
    }
  },
  "cells": [
    {
      "cell_type": "markdown",
      "metadata": {
        "id": "view-in-github",
        "colab_type": "text"
      },
      "source": [
        "<a href=\"https://colab.research.google.com/github/rsnelson1/QTM250-example/blob/main/Question3.ipynb\" target=\"_parent\"><img src=\"https://colab.research.google.com/assets/colab-badge.svg\" alt=\"Open In Colab\"/></a>"
      ]
    },
    {
      "cell_type": "markdown",
      "source": [
        "\n",
        "I am very interested in the notebook entitled \"receptiveFields\".\n",
        "\n",
        "I am an NBB major and I find it fascinating how all of our perceptions of the world and the decisions we make are orchestrated by complex interactions between circuits of neurons in our brain. This notebook investigates how neural activity changes when qualities of an image changes. It is very interesting how we are able to visualize the receptive fields of individual neurons by measuring their electrical reaction to different stimuli."
      ],
      "metadata": {
        "id": "ODIJZmwmz1kl"
      }
    }
  ]
}