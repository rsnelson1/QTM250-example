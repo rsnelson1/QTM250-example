{
  "nbformat": 4,
  "nbformat_minor": 0,
  "metadata": {
    "colab": {
      "name": "receptiveFields",
      "provenance": []
    }
  },
  "cells": [
    {
      "cell_type": "markdown",
      "source": [
        "I am very interested in the notebook below entitled \"recetiveFields\".\n",
        "\n",
        "I am an NBB major and I find it fascinating how all of our perceptions of the world and the decisions we make are orchestrated by complex interactions between circuits of neurons in our brain. This notebook investigates how neural activity changes when qualities of an image changes. It is very interesting how we are able to visualize the receptive fields of individual neurons by measuring their electrical reaction to different stimuli."
      ],
      "metadata": {
        "id": "GGSXsHN0xZCd"
      }
    },
    {
      "cell_type": "markdown",
      "source": [
        "The following article will visualize some mathematical models for brain cell activity.\n",
        "In some regions of the brain, neurons are excited or inhibited by neurons of a preceding input layer. They are called receptive field of that neuron. Since the visual area uses receptive fields as feature detectors (such as edge and edge-orientation detection) for natural images, the application of different receptive field functions on images can be nicely examined. \n",
        "The ipython notebook file to play with the parameters can be found on [GitHub](https://github.com/jonasnick/ReceptiveFields)."
      ],
      "metadata": {
        "id": "6hQClurPxXWO"
      }
    },
    {
      "cell_type": "code",
      "source": [
        "import matplotlib.pyplot as plt\n",
        "import matplotlib.image as mpimg\n",
        "import scipy.signal as signal\n",
        "import numpy as n"
      ],
      "outputs": [],
      "metadata": {
        "id": "K5QVmOWpxXWT"
      },
      "execution_count": null
    },
    {
      "cell_type": "markdown",
      "source": [
        "\n",
        "We examine the effect on the following images. In the visual pathway the images can be seen as input from the retina to higher visual areas."
      ],
      "metadata": {
        "id": "yNf6wDSExXWU"
      }
    },
    {
      "cell_type": "code",
      "source": [
        "barImg=mpimg.imread('bar.png')\n",
        "#extract grey values\n",
        "barImg = barImg[:,:,3]"
      ],
      "outputs": [],
      "metadata": {
        "id": "qmEwuHUnxXWV"
      },
      "execution_count": null
    },
    {
      "cell_type": "code",
      "source": [
        "imgplot = plt.imshow(barImg, cmap=cm.Greys_r)"
      ],
      "outputs": [
        {
          "output_type": "display_data",
          "data": {}
        }
      ],
      "metadata": {
        "id": "KvGD-ExJxXWV",
        "outputId": "038aace3-5e98-425c-a916-127df4600bfb"
      },
      "execution_count": null
    },
    {
      "cell_type": "code",
      "source": [
        "img=mpimg.imread('stinkbug.png')\n",
        "#extract grey values\n",
        "bugImg = img[:,:,0]\n"
      ],
      "outputs": [],
      "metadata": {
        "id": "81LFMPoWxXWW"
      },
      "execution_count": null
    },
    {
      "cell_type": "code",
      "source": [
        "imgplot = plt.imshow(bugImg, cmap=cm.Greys_r)"
      ],
      "outputs": [
        {
          "output_type": "display_data",
          "data": {}
        }
      ],
      "metadata": {
        "id": "sVzKxSMtxXWX",
        "outputId": "f9c48e60-f597-4eca-a81c-a312403767ef"
      },
      "execution_count": null
    },
    {
      "cell_type": "markdown",
      "source": [
        "Receptive field functions\n",
        "-------------------\n",
        "\n",
        "The two dimensional gaussian function is used in image processing as blurring filter.\n",
        "$$\\phi(x,y) = \\frac{1}{2\\pi\\sigma^2}\\exp{(-\\frac{1}{2\\pi\\sigma^2}(x^2+ y^2))}$$"
      ],
      "metadata": {
        "id": "tr50ots_xXWY"
      }
    },
    {
      "cell_type": "code",
      "source": [
        "def gaussian2D(x, y, sigma):\n",
        "    return (1.0/(1*math.pi*(sigma**2)))*math.exp(-(1.0/(2*(sigma**2)))*(x**2 + y**2))"
      ],
      "outputs": [],
      "metadata": {
        "id": "sER6iipLxXWZ"
      },
      "execution_count": null
    },
    {
      "cell_type": "markdown",
      "source": [
        "\n",
        "Since scipy's convolve function does not accept functions, we sample sample the function."
      ],
      "metadata": {
        "id": "CYXIN9BCxXWa"
      }
    },
    {
      "cell_type": "code",
      "source": [
        "\"\"\"make matrix from function\"\"\"\n",
        "def receptiveFieldMatrix(func):\n",
        "    h = 30\n",
        "    g = zeros((h,h))\n",
        "    for xi in range(0,h):\n",
        "        for yi in range(0,h):\n",
        "            x = xi-h/2\n",
        "            y = yi-h/2\n",
        "            g[xi, yi] = func(x,y);\n",
        "    return g"
      ],
      "outputs": [],
      "metadata": {
        "id": "so5_a0x0xXWa"
      },
      "execution_count": null
    },
    {
      "cell_type": "code",
      "source": [
        "def plotFilter(fun):\n",
        "    g = receptiveFieldMatrix(fun) \n",
        "    plt.imshow(g, cmap=cm.Greys_r)"
      ],
      "outputs": [],
      "metadata": {
        "id": "mb7DS5soxXWb"
      },
      "execution_count": null
    },
    {
      "cell_type": "markdown",
      "source": [
        "\n",
        "The gaussian function is circular symmetric, leading to excitation of a centered pixel from nearby pixels in convolution.\n",
        "\n",
        "In the context of fourier transformation it is a low pass filter, which cancels out higher frequencies in the frequence domain of the image and is therefore blurring the image."
      ],
      "metadata": {
        "id": "0wxhde-cxXWb"
      }
    },
    {
      "cell_type": "code",
      "source": [
        "plotFilter(lambda x,y:gaussian2D(x,y,4))"
      ],
      "outputs": [
        {
          "output_type": "display_data",
          "data": {}
        }
      ],
      "metadata": {
        "id": "bOBxFbvYxXWb",
        "outputId": "fe58a2c5-48cc-4552-d688-bfea1e8f422f"
      },
      "execution_count": null
    },
    {
      "cell_type": "markdown",
      "source": [
        "\n",
        "Convolution is the process of applying the filter to the input, which is the image $I(x,y)$ denoting the grey value of the pixel at the specified position. \n",
        "$$\\int \\int I(x',y')\\phi(x-x',y-y')dx'dy'$$\n",
        "\n",
        "When applying the gaussian filter every neuron in the output layer is excited by nearby image neurons. \n",
        "The result of the convolution can then also be visualized in an image. \n",
        "Song Ho Ahn has a [nice example](http://www.songho.ca/dsp/convolution/convolution2d_example.html \"jkh\") for convolution of 2D Arrays."
      ],
      "metadata": {
        "id": "LG8RVeMpxXWc"
      }
    },
    {
      "cell_type": "code",
      "source": [
        "Img_barGaussian = signal.convolve(barImg,receptiveFieldMatrix(lambda x,y: gaussian2D(x,y,5)), mode='same')"
      ],
      "outputs": [],
      "metadata": {
        "id": "SF_71LF8xXWc"
      },
      "execution_count": null
    },
    {
      "cell_type": "code",
      "source": [
        "imgplot = plt.imshow(Img_barGaussian, cmap=cm.Greys_r)"
      ],
      "outputs": [
        {
          "output_type": "display_data",
          "data": {}
        }
      ],
      "metadata": {
        "id": "4cUNSdbsxXWd",
        "outputId": "632b6898-1888-4885-d346-47e27182513a"
      },
      "execution_count": null
    },
    {
      "cell_type": "code",
      "source": [
        "Img_bugGaussian = signal.convolve(bugImg,receptiveFieldMatrix(lambda x,y: gaussian2D(x,y,3)), mode='same')"
      ],
      "outputs": [],
      "metadata": {
        "id": "2a1cijv5xXWd"
      },
      "execution_count": null
    },
    {
      "cell_type": "code",
      "source": [
        "imgplot = plt.imshow(Img_bugGaussian, cmap=cm.Greys_r)"
      ],
      "outputs": [
        {
          "output_type": "display_data",
          "data": {}
        }
      ],
      "metadata": {
        "id": "G3eRJNy-xXWd",
        "outputId": "d9cc7521-0461-4ed1-e5f8-769cd064b57c"
      },
      "execution_count": null
    },
    {
      "cell_type": "markdown",
      "source": [
        "Difference of Gaussians\n",
        "---------------------\n",
        "\n",
        "The mexican hat function is a difference of gaussians, which leads to an on-center, off-surround receptive field, found in retinal ganglion cells or LGN neurons. It can be seen as a basic edge detector."
      ],
      "metadata": {
        "id": "L-ctq5btxXWd"
      }
    },
    {
      "cell_type": "code",
      "source": [
        "def mexicanHat(x,y,sigma1,sigma2): \n",
        "    return gaussian2D(x,y,sigma1) - gaussian2D(x,y,sigma2)"
      ],
      "outputs": [],
      "metadata": {
        "id": "aza1mtwbxXWe"
      },
      "execution_count": null
    },
    {
      "cell_type": "code",
      "source": [
        "plotFilter(lambda x,y: mexicanHat(x,y,3,4))"
      ],
      "outputs": [
        {
          "output_type": "display_data",
          "data": {}
        }
      ],
      "metadata": {
        "id": "t9K7ORfaxXWe",
        "outputId": "9498b22e-183a-46d4-af5f-95ba29bc8f5a"
      },
      "execution_count": null
    },
    {
      "cell_type": "code",
      "source": [
        "Img_barHat = signal.convolve(barImg,receptiveFieldMatrix(lambda x,y:mexicanHat(x,y,3,4)), mode='same')"
      ],
      "outputs": [],
      "metadata": {
        "id": "lTwg8Z6BxXWe"
      },
      "execution_count": null
    },
    {
      "cell_type": "code",
      "source": [
        "imgplot = plt.imshow(Img_barHat, cmap=cm.Greys_r)"
      ],
      "outputs": [
        {
          "output_type": "display_data",
          "data": {}
        }
      ],
      "metadata": {
        "id": "xYGOFqUMxXWf",
        "outputId": "a11c1ba7-c04b-47b8-885a-c1a3d5f90d67"
      },
      "execution_count": null
    },
    {
      "cell_type": "code",
      "source": [
        "Img_bugHat = signal.convolve(bugImg,receptiveFieldMatrix(lambda x,y: mexicanHat(x,y,2,3)), mode='same')"
      ],
      "outputs": [],
      "metadata": {
        "id": "mNgqBqw9xXWf"
      },
      "execution_count": null
    },
    {
      "cell_type": "code",
      "source": [
        "imgplot = plt.imshow(Img_bugHat, cmap=cm.Greys_r)"
      ],
      "outputs": [
        {
          "output_type": "display_data",
          "data": {}
        }
      ],
      "metadata": {
        "id": "hs0dBF1WxXWg",
        "outputId": "b8acdea8-2152-4902-c5e0-2ecdcc37c301"
      },
      "execution_count": null
    },
    {
      "cell_type": "markdown",
      "source": [
        "Gabor functions\n",
        "---------------\n",
        "\n",
        "Gabor functions are used to detect edges with a specific orientation in images. Neurons which can be modeled using gabor functions are found throughout the visual cortex.\n",
        "\n",
        "Odd gabor:\n",
        "$$g_s(x,y):=sin(\\omega_x x + \\omega_y y)\\exp{(-\\frac{x^2+y^2}{2\\sigma^2})}$$\n",
        "Even gabor:\n",
        "$$g_c(x,y):=cos(\\omega_x x + \\omega_y y)\\exp{(-\\frac{x^2+y^2}{2\\sigma^2})}$$\n",
        "\n",
        "Orientation is given by the ratio $\\omega_y/\\omega_x$. \n",
        "\n",
        "$g_s$ is activated by step edges, while $g_c$ is activated by line edges.\n"
      ],
      "metadata": {
        "id": "PCIAJ2LExXWg"
      }
    },
    {
      "cell_type": "code",
      "source": [
        "def oddGabor2D(x,y,sigma,orientation):\n",
        "    return math.sin(x + orientation*y) * math.exp(-(x**2 + y**2)/(2*sigma))"
      ],
      "outputs": [],
      "metadata": {
        "id": "2nME7z8XxXWg"
      },
      "execution_count": null
    },
    {
      "cell_type": "code",
      "source": [
        "def evenGabor2D(x,y, sigma, orientation):\n",
        "    return math.cos(x + orientation*y) * math.exp(-(x**2 + y**2)/(2*sigma))"
      ],
      "outputs": [],
      "metadata": {
        "id": "5O9hQyeBxXWg"
      },
      "execution_count": null
    },
    {
      "cell_type": "code",
      "source": [
        "plotFilter(lambda x,y: oddGabor2D(x,y,7,1))"
      ],
      "outputs": [
        {
          "output_type": "display_data",
          "data": {}
        }
      ],
      "metadata": {
        "id": "k-ZpGeDKxXWh",
        "outputId": "deab1153-b1d9-40d0-be67-7ce088b3177c"
      },
      "execution_count": null
    },
    {
      "cell_type": "code",
      "source": [
        "Img_barOddGabor = signal.convolve(barImg,receptiveFieldMatrix(lambda x,y: oddGabor2D(x,y,5,1)), mode='same')"
      ],
      "outputs": [],
      "metadata": {
        "id": "6hFH9DTCxXWh"
      },
      "execution_count": null
    },
    {
      "cell_type": "code",
      "source": [
        "imgplot = plt.imshow(Img_barOddGabor, cmap=cm.Greys_r)"
      ],
      "outputs": [
        {
          "output_type": "display_data",
          "data": {}
        }
      ],
      "metadata": {
        "id": "mYBKji0axXWh",
        "outputId": "a13b04cb-1f07-4739-9b08-814334817a2f"
      },
      "execution_count": null
    },
    {
      "cell_type": "code",
      "source": [
        "Img_bugOddGabor = signal.convolve(bugImg,receptiveFieldMatrix(lambda x,y: oddGabor2D(x,y,5,1)), mode='same')"
      ],
      "outputs": [],
      "metadata": {
        "id": "2p2NuzC4xXWh"
      },
      "execution_count": null
    },
    {
      "cell_type": "markdown",
      "source": [
        "\n",
        "In the following plot one can see clearly the edge orientations that excite the neuron."
      ],
      "metadata": {
        "id": "Gd8-lXn9xXWh"
      }
    },
    {
      "cell_type": "code",
      "source": [
        "imgplot = plt.imshow(Img_bugOddGabor, cmap=cm.Greys_r)"
      ],
      "outputs": [
        {
          "output_type": "display_data",
          "data": {}
        }
      ],
      "metadata": {
        "id": "exZE0tWVxXWi",
        "outputId": "a3ab09a6-d665-4dee-f85c-9fa333ce5f33"
      },
      "execution_count": null
    },
    {
      "cell_type": "markdown",
      "source": [
        "\n",
        "Using the on-center, off-surround receptive field image as input to the gabor we obtain different results."
      ],
      "metadata": {
        "id": "QmO5g5CdxXWi"
      }
    },
    {
      "cell_type": "code",
      "source": [
        "Img_bugOddGaborEdge = signal.convolve(Img_bugHat,receptiveFieldMatrix(lambda x,y: oddGabor2D(x,y,5,1)), mode='same')"
      ],
      "outputs": [],
      "metadata": {
        "id": "nQCa3nVexXWi"
      },
      "execution_count": null
    },
    {
      "cell_type": "code",
      "source": [
        "imgplot = plt.imshow(Img_bugOddGaborEdge, cmap=cm.Greys_r)"
      ],
      "outputs": [
        {
          "output_type": "display_data",
          "data": {}
        }
      ],
      "metadata": {
        "id": "mHAUTRaMxXWi",
        "outputId": "6c5a88c7-f107-481c-e958-6564ce7955f7"
      },
      "execution_count": null
    },
    {
      "cell_type": "code",
      "source": [
        "plotFilter(lambda x,y: evenGabor2D(x,y,7,1))"
      ],
      "outputs": [
        {
          "output_type": "display_data",
          "data": {}
        }
      ],
      "metadata": {
        "id": "N0_yG_EGxXWi",
        "outputId": "e0b2b3f5-1302-48db-987d-514bf6ffff0f"
      },
      "execution_count": null
    },
    {
      "cell_type": "code",
      "source": [
        "Img_barEvenGabor = signal.convolve(barImg,receptiveFieldMatrix(lambda x,y: evenGabor2D(x,y,5,1)), mode='same')"
      ],
      "outputs": [],
      "metadata": {
        "id": "E0dhzXs6xXWj"
      },
      "execution_count": null
    },
    {
      "cell_type": "code",
      "source": [
        "imgplot = plt.imshow(Img_barEvenGabor, cmap=cm.Greys_r)"
      ],
      "outputs": [
        {
          "output_type": "display_data",
          "data": {}
        }
      ],
      "metadata": {
        "id": "uLx8aHhvxXWj",
        "outputId": "01d16418-a4bf-4c0e-d025-6cf3a09f103b"
      },
      "execution_count": null
    },
    {
      "cell_type": "code",
      "source": [
        "Img_bugEvenGabor = signal.convolve(bugImg,receptiveFieldMatrix(lambda x,y: evenGabor2D(x,y,5,1)), mode='same')"
      ],
      "outputs": [],
      "metadata": {
        "id": "UOToTC2rxXWj"
      },
      "execution_count": null
    },
    {
      "cell_type": "code",
      "source": [
        "imgplot = plt.imshow(Img_bugEvenGabor, cmap=cm.Greys_r)"
      ],
      "outputs": [
        {
          "output_type": "display_data",
          "data": {}
        }
      ],
      "metadata": {
        "id": "10dDG-jkxXWj",
        "outputId": "84ea8cc0-91a8-42c8-c29d-d3283eb588fe"
      },
      "execution_count": null
    },
    {
      "cell_type": "markdown",
      "source": [
        "Quadrature Pairs\n",
        "------------------\n",
        "\n",
        "A complex cell might react equally well to step edges and lines of either polarity. This is modeled by summing the squared responses of both odd and even gabor filter.  "
      ],
      "metadata": {
        "id": "AVytGaeyxXWj"
      }
    },
    {
      "cell_type": "code",
      "source": [
        "def edgeEnergy(x,y,sigma, orientation):\n",
        "    g1= oddGabor2D(x,y,sigma,orientation)\n",
        "    g2= evenGabor2D(x,y,sigma,orientation)\n",
        "    return(g1**2+g2**2)\n"
      ],
      "outputs": [],
      "metadata": {
        "id": "yFq7OIU0xXWn"
      },
      "execution_count": null
    },
    {
      "cell_type": "code",
      "source": [
        "plotFilter(lambda x,y:edgeEnergy(x,y,50,0))"
      ],
      "outputs": [
        {
          "output_type": "display_data",
          "data": {}
        }
      ],
      "metadata": {
        "id": "QKYy0SofxXWn",
        "outputId": "2722fc4b-0637-47fb-f1f1-8b50a282a705"
      },
      "execution_count": null
    },
    {
      "cell_type": "code",
      "source": [
        "Img_barEdgeEnergy = signal.convolve(barImg,receptiveFieldMatrix(lambda x,y: edgeEnergy(x,y,100,1)), mode='same')\n",
        "imgplot = plt.imshow(Img_barEdgeEnergy, cmap=cm.Greys_r)"
      ],
      "outputs": [
        {
          "output_type": "display_data",
          "data": {}
        }
      ],
      "metadata": {
        "id": "PphBOBZdxXWn",
        "outputId": "71fab34e-ef53-41ef-e4f8-8efbd842499b"
      },
      "execution_count": null
    },
    {
      "cell_type": "code",
      "source": [
        "Img_bugEdgeEnergy = signal.convolve(bugImg,receptiveFieldMatrix(lambda x,y: edgeEnergy(x,y,10,1)), mode='same')\n",
        "imgplot = plt.imshow(Img_bugEdgeEnergy, cmap=cm.Greys_r)"
      ],
      "outputs": [
        {
          "output_type": "display_data",
          "data": {}
        }
      ],
      "metadata": {
        "id": "EBLGzmn4xXWn",
        "outputId": "648d97aa-0592-46e5-d356-008ada89c5e6"
      },
      "execution_count": null
    },
    {
      "cell_type": "markdown",
      "source": [
        "References \n",
        "-------------\n",
        "\n",
        "Introduction to Computational Neuroscience, Hanspeter Mallot, [University of Tübingen](http://www.uni-tuebingen.de/cog)"
      ],
      "metadata": {
        "id": "W4f0t-wbxXWo"
      }
    }
  ]
}